{
 "cells": [
  {
   "cell_type": "code",
   "execution_count": 1,
   "id": "624acff3-269f-4ee0-a5db-458df0cdb463",
   "metadata": {},
   "outputs": [],
   "source": [
    "import pickle"
   ]
  },
  {
   "cell_type": "code",
   "execution_count": 2,
   "id": "11e2428c-3a93-4cb8-9758-01f53dc6ca00",
   "metadata": {},
   "outputs": [],
   "source": [
    "with open('saved_model' , 'rb') as f:\n",
    "    model = pickle.load(f)"
   ]
  },
  {
   "cell_type": "code",
   "execution_count": 6,
   "id": "923a9a14-79ea-4a79-9862-a725d4b4ae88",
   "metadata": {},
   "outputs": [
    {
     "name": "stdin",
     "output_type": "stream",
     "text": [
      "Enter the Area[sq] :  30000\n"
     ]
    },
    {
     "name": "stdout",
     "output_type": "stream",
     "text": [
      "Predicted Price : 4254246.575342466 rupees\n"
     ]
    }
   ],
   "source": [
    "area = int(input(\"Enter the Area[sq] : \"))\n",
    "price = model.predict([[area]])\n",
    "print(\"Predicted Price : {} rupees\".format(*price))"
   ]
  },
  {
   "cell_type": "code",
   "execution_count": null,
   "id": "f1278085-05b8-4b91-b7e2-926edd80fa3b",
   "metadata": {},
   "outputs": [],
   "source": []
  }
 ],
 "metadata": {
  "kernelspec": {
   "display_name": "Python 3 (ipykernel)",
   "language": "python",
   "name": "python3"
  },
  "language_info": {
   "codemirror_mode": {
    "name": "ipython",
    "version": 3
   },
   "file_extension": ".py",
   "mimetype": "text/x-python",
   "name": "python",
   "nbconvert_exporter": "python",
   "pygments_lexer": "ipython3",
   "version": "3.11.5"
  }
 },
 "nbformat": 4,
 "nbformat_minor": 5
}
